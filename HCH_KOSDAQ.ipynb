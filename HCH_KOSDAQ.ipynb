{
 "cells": [
  {
   "cell_type": "code",
   "execution_count": 166,
   "metadata": {},
   "outputs": [],
   "source": [
    "import io\n",
    "import json\n",
    "import sys\n",
    "import urllib.request as req\n",
    "from fake_useragent import UserAgent\n",
    "import requests\n",
    "from bs4 import BeautifulSoup as bs\n",
    "from urllib.request import urlopen\n",
    "import pandas"
   ]
  },
  {
   "cell_type": "code",
   "execution_count": 167,
   "metadata": {},
   "outputs": [],
   "source": [
    "from ApploComposer import *"
   ]
  },
  {
   "cell_type": "code",
   "execution_count": 168,
   "metadata": {},
   "outputs": [
    {
     "name": "stdout",
     "output_type": "stream",
     "text": [
      "{'market': 'KOSDAQ', 'symbolCode': 'E4012066', 'sectorCode': '066', 'sectorName': '제약', 'foreignRatioBaseDate': '2020-01-21', 'includedStocks': [{'name': '우진비앤지', 'code': 'KR7018620005', 'symbolCode': 'A018620', 'tradePrice': 3145.0, 'change': 'RISE', 'changePrice': 450.0, 'changeRate': 0.1669758813, 'accTradeVolume': 29066956, 'accTradePrice': 91789401035, 'marketCap': 81666255885.0, 'foreignRatio': '2.870'}, {'name': '에스티팜', 'code': 'KR7237690003', 'symbolCode': 'A237690', 'tradePrice': 29650.0, 'change': 'RISE', 'changePrice': 3000.0, 'changeRate': 0.1125703565, 'accTradeVolume': 163486, 'accTradePrice': 4673312250, 'marketCap': 553150400000.0, 'foreignRatio': '9.400'}, {'name': '엘앤씨바이오', 'code': 'KR7290650001', 'symbolCode': 'A290650', 'tradePrice': 33600.0, 'change': 'RISE', 'changePrice': 3200.0, 'changeRate': 0.1052631579, 'accTradeVolume': 460236, 'accTradePrice': 15057324300, 'marketCap': 247273555200.0, 'foreignRatio': '2.920'}, {'name': '삼아제약', 'code': 'KR7009300005', 'symbolCode': 'A009300', 'tradePrice': 17400.0, 'change': 'RISE', 'changePrice': 1550.0, 'changeRate': 0.0977917981, 'accTradeVolume': 748632, 'accTradePrice': 13543780350, 'marketCap': 110838000000.0, 'foreignRatio': '1.120'}, {'name': '휴젤', 'code': 'KR7145020004', 'symbolCode': 'A145020', 'tradePrice': 455000.0, 'change': 'RISE', 'changePrice': 40000.0, 'changeRate': 0.0963855422, 'accTradeVolume': 22770, 'accTradePrice': 10094102600, 'marketCap': 1965493075000.0, 'foreignRatio': '56.510'}, {'name': '콜마비앤에이치', 'code': 'KR7200130003', 'symbolCode': 'A200130', 'tradePrice': 29950.0, 'change': 'RISE', 'changePrice': 2250.0, 'changeRate': 0.0812274368, 'accTradeVolume': 148905, 'accTradePrice': 4349164350, 'marketCap': 884829562100.0, 'foreignRatio': '5.510'}, {'name': '메타바이오메드', 'code': 'KR7059210005', 'symbolCode': 'A059210', 'tradePrice': 2910.0, 'change': 'RISE', 'changePrice': 200.0, 'changeRate': 0.073800738, 'accTradeVolume': 445671, 'accTradePrice': 1256950165, 'marketCap': 69439441410.0, 'foreignRatio': '4.790'}, {'name': '바이오니아', 'code': 'KR7064550007', 'symbolCode': 'A064550', 'tradePrice': 7160.0, 'change': 'RISE', 'changePrice': 480.0, 'changeRate': 0.0718562874, 'accTradeVolume': 1297484, 'accTradePrice': 9337316740, 'marketCap': 159389096520.0, 'foreignRatio': '4.550'}, {'name': '녹십자엠에스', 'code': 'KR7142280007', 'symbolCode': 'A142280', 'tradePrice': 4800.0, 'change': 'RISE', 'changePrice': 310.0, 'changeRate': 0.0690423163, 'accTradeVolume': 1627946, 'accTradePrice': 7816372285, 'marketCap': 101362958400.0, 'foreignRatio': '0.710'}, {'name': '동국제약', 'code': 'KR7086450004', 'symbolCode': 'A086450', 'tradePrice': 92000.0, 'change': 'RISE', 'changePrice': 5500.0, 'changeRate': 0.063583815, 'accTradeVolume': 49356, 'accTradePrice': 4489504800, 'marketCap': 818064000000.0, 'foreignRatio': '29.360'}, {'name': '씨젠', 'code': 'KR7096530001', 'symbolCode': 'A096530', 'tradePrice': 33200.0, 'change': 'RISE', 'changePrice': 1750.0, 'changeRate': 0.0556438792, 'accTradeVolume': 383414, 'accTradePrice': 12475426800, 'marketCap': 870969464000.0, 'foreignRatio': '26.010'}, {'name': '진양제약', 'code': 'KR7007370000', 'symbolCode': 'A007370', 'tradePrice': 5870.0, 'change': 'RISE', 'changePrice': 250.0, 'changeRate': 0.0444839858, 'accTradeVolume': 2569386, 'accTradePrice': 15049315620, 'marketCap': 70440000000.0, 'foreignRatio': '0.810'}, {'name': '엔케이맥스', 'code': 'KR7182400002', 'symbolCode': 'A182400', 'tradePrice': 9760.0, 'change': 'RISE', 'changePrice': 410.0, 'changeRate': 0.0438502674, 'accTradeVolume': 195508, 'accTradePrice': 1874399240, 'marketCap': 304815184640.0, 'foreignRatio': '8.720'}, {'name': '신신제약', 'code': 'KR7002800001', 'symbolCode': 'A002800', 'tradePrice': 7310.0, 'change': 'RISE', 'changePrice': 300.0, 'changeRate': 0.0427960057, 'accTradeVolume': 747663, 'accTradePrice': 5459395000, 'marketCap': 110896355000.0, 'foreignRatio': '2.270'}, {'name': '코미팜', 'code': 'KR7041960006', 'symbolCode': 'A041960', 'tradePrice': 14650.0, 'change': 'RISE', 'changePrice': 600.0, 'changeRate': 0.0427046263, 'accTradeVolume': 1293122, 'accTradePrice': 19008276300, 'marketCap': 936492093750.0, 'foreignRatio': '2.440'}, {'name': '제노포커스', 'code': 'KR7187420005', 'symbolCode': 'A187420', 'tradePrice': 5940.0, 'change': 'RISE', 'changePrice': 240.0, 'changeRate': 0.0421052632, 'accTradeVolume': 179046, 'accTradePrice': 1060390500, 'marketCap': 129719282220.0, 'foreignRatio': '0.880'}, {'name': '서울제약', 'code': 'KR7018680009', 'symbolCode': 'A018680', 'tradePrice': 7700.0, 'change': 'RISE', 'changePrice': 300.0, 'changeRate': 0.0405405405, 'accTradeVolume': 239069, 'accTradePrice': 1816323230, 'marketCap': 65338342300.0, 'foreignRatio': '3.110'}, {'name': '대봉엘에스', 'code': 'KR7078140001', 'symbolCode': 'A078140', 'tradePrice': 7390.0, 'change': 'RISE', 'changePrice': 270.0, 'changeRate': 0.0379213483, 'accTradeVolume': 997790, 'accTradePrice': 7602682710, 'marketCap': 81929818810.0, 'foreignRatio': '3.290'}, {'name': '동구바이오제약', 'code': 'KR7006620009', 'symbolCode': 'A006620', 'tradePrice': 17250.0, 'change': 'RISE', 'changePrice': 600.0, 'changeRate': 0.036036036, 'accTradeVolume': 373897, 'accTradePrice': 6415324300, 'marketCap': 165669000000.0, 'foreignRatio': '0.270'}, {'name': '경동제약', 'code': 'KR7011040003', 'symbolCode': 'A011040', 'tradePrice': 7980.0, 'change': 'RISE', 'changePrice': 270.0, 'changeRate': 0.0350194553, 'accTradeVolume': 188499, 'accTradePrice': 1505868880, 'marketCap': 211869000000.0, 'foreignRatio': '18.050'}, {'name': '한국유니온제약', 'code': 'KR7080720006', 'symbolCode': 'A080720', 'tradePrice': 15150.0, 'change': 'RISE', 'changePrice': 500.0, 'changeRate': 0.0341296928, 'accTradeVolume': 488897, 'accTradePrice': 7311745800, 'marketCap': 89441479200.0, 'foreignRatio': '0.240'}, {'name': '안국약품', 'code': 'KR7001540004', 'symbolCode': 'A001540', 'tradePrice': 11300.0, 'change': 'RISE', 'changePrice': 350.0, 'changeRate': 0.0319634703, 'accTradeVolume': 97110, 'accTradePrice': 1092773350, 'marketCap': 147379346000.0, 'foreignRatio': '3.090'}, {'name': '중앙백신', 'code': 'KR7072020001', 'symbolCode': 'A072020', 'tradePrice': 19650.0, 'change': 'RISE', 'changePrice': 600.0, 'changeRate': 0.031496063, 'accTradeVolume': 562181, 'accTradePrice': 10926915150, 'marketCap': 195714000000.0, 'foreignRatio': '4.550'}, {'name': '대성미생물', 'code': 'KR7036480002', 'symbolCode': 'A036480', 'tradePrice': 16750.0, 'change': 'RISE', 'changePrice': 500.0, 'changeRate': 0.0307692308, 'accTradeVolume': 103508, 'accTradePrice': 1724039350, 'marketCap': 63650000000.0, 'foreignRatio': '2.580'}, {'name': '나이벡', 'code': 'KR7138610001', 'symbolCode': 'A138610', 'tradePrice': 13550.0, 'change': 'RISE', 'changePrice': 400.0, 'changeRate': 0.030418251, 'accTradeVolume': 8989897, 'accTradePrice': 126304507450, 'marketCap': 134185365450.0, 'foreignRatio': '0.360'}, {'name': '셀트리온제약', 'code': 'KR7068760008', 'symbolCode': 'A068760', 'tradePrice': 42200.0, 'change': 'RISE', 'changePrice': 1200.0, 'changeRate': 0.0292682927, 'accTradeVolume': 538971, 'accTradePrice': 22567464500, 'marketCap': 1438560231000.0, 'foreignRatio': '3.120'}, {'name': '세운메디칼', 'code': 'KR7100700004', 'symbolCode': 'A100700', 'tradePrice': 3395.0, 'change': 'RISE', 'changePrice': 95.0, 'changeRate': 0.0287878788, 'accTradeVolume': 124979, 'accTradePrice': 419643260, 'marketCap': 148701000000.0, 'foreignRatio': '1.600'}, {'name': '에스텍파마', 'code': 'KR7041910001', 'symbolCode': 'A041910', 'tradePrice': 11100.0, 'change': 'RISE', 'changePrice': 300.0, 'changeRate': 0.0277777778, 'accTradeVolume': 417943, 'accTradePrice': 4650112400, 'marketCap': 132070719300.0, 'foreignRatio': '3.130'}, {'name': '프로스테믹스', 'code': 'KR7203690003', 'symbolCode': 'A203690', 'tradePrice': 3535.0, 'change': 'RISE', 'changePrice': 95.0, 'changeRate': 0.0276162791, 'accTradeVolume': 138316, 'accTradePrice': 486202390, 'marketCap': 161466427500.0, 'foreignRatio': '0.840'}, {'name': '메디포스트', 'code': 'KR7078160009', 'symbolCode': 'A078160', 'tradePrice': 36150.0, 'change': 'RISE', 'changePrice': 950.0, 'changeRate': 0.0269886364, 'accTradeVolume': 236281, 'accTradePrice': 8606925950, 'marketCap': 564584988300.0, 'foreignRatio': '6.830'}], 'totalCount': 89, 'totalPages': 3, 'currentPage': 1, 'pageSize': 30}\n"
     ]
    }
   ],
   "source": [
    "    url = 'https://finance.daum.net/api/sectors/E4012066/includedStocks?symbolCode=E4012066&page=1&perPage=30&fieldName=changeRate&order=desc&pagination=true'\n",
    "    headers = {\n",
    "            'Referer' : 'https://finance.daum.net/domestic/sectors/E4012066',\n",
    "            'User-Agent' : 'Mozilla/5.0 (Windows NT 10.0; Win64; x64) AppleWebKit/537.36 (KHTML, like Gecko) Chrome/79.0.3945.117 Safari/537.36'\n",
    "}\n",
    "    response = requests.get(url, headers = headers)\n",
    "    json0bjst = response.json()\n",
    "    print(json0bjst)"
   ]
  },
  {
   "cell_type": "code",
   "execution_count": 169,
   "metadata": {},
   "outputs": [
    {
     "name": "stdout",
     "output_type": "stream",
     "text": [
      "{'market': 'KOSDAQ', 'symbolCode': 'E4012066', 'sectorCode': '066', 'sectorName': '제약', 'foreignRatioBaseDate': '2020-01-21', 'includedStocks': [{'name': '바디텍메드', 'code': 'KR7206640005', 'symbolCode': 'A206640', 'tradePrice': 10000.0, 'change': 'RISE', 'changePrice': 260.0, 'changeRate': 0.0266940452, 'accTradeVolume': 237436, 'accTradePrice': 2376248010, 'marketCap': 234685420000.0, 'foreignRatio': '4.510'}, {'name': '엔지켐생명과학', 'code': 'KR7183490002', 'symbolCode': 'A183490', 'tradePrice': 67800.0, 'change': 'RISE', 'changePrice': 1700.0, 'changeRate': 0.0257186082, 'accTradeVolume': 34151, 'accTradePrice': 2282892500, 'marketCap': 532857963600.0, 'foreignRatio': '9.780'}, {'name': 'JW신약', 'code': 'KR7067290007', 'symbolCode': 'A067290', 'tradePrice': 4900.0, 'change': 'RISE', 'changePrice': 120.0, 'changeRate': 0.0251046025, 'accTradeVolume': 429414, 'accTradePrice': 2101494265, 'marketCap': 204169113400.0, 'foreignRatio': '2.140'}, {'name': '조아제약', 'code': 'KR7034940007', 'symbolCode': 'A034940', 'tradePrice': 4100.0, 'change': 'RISE', 'changePrice': 100.0, 'changeRate': 0.025, 'accTradeVolume': 802683, 'accTradePrice': 3304254225, 'marketCap': 116624504100.0, 'foreignRatio': '2.650'}, {'name': 'CMG제약', 'code': 'KR7058820002', 'symbolCode': 'A058820', 'tradePrice': 4045.0, 'change': 'RISE', 'changePrice': 95.0, 'changeRate': 0.0240506329, 'accTradeVolume': 4010949, 'accTradePrice': 16246496910, 'marketCap': 561819126980.0, 'foreignRatio': '2.310'}, {'name': '테라젠이텍스', 'code': 'KR7066700006', 'symbolCode': 'A066700', 'tradePrice': 8480.0, 'change': 'RISE', 'changePrice': 190.0, 'changeRate': 0.0229191797, 'accTradeVolume': 203208, 'accTradePrice': 1723236490, 'marketCap': 263134035360.0, 'foreignRatio': '3.570'}, {'name': '인트론바이오', 'code': 'KR7048530000', 'symbolCode': 'A048530', 'tradePrice': 13450.0, 'change': 'RISE', 'changePrice': 300.0, 'changeRate': 0.0228136882, 'accTradeVolume': 229543, 'accTradePrice': 3080034450, 'marketCap': 403644520250.0, 'foreignRatio': '8.380'}, {'name': '펩트론', 'code': 'KR7087010005', 'symbolCode': 'A087010', 'tradePrice': 16000.0, 'change': 'RISE', 'changePrice': 350.0, 'changeRate': 0.0223642173, 'accTradeVolume': 196920, 'accTradePrice': 3147660300, 'marketCap': 245224000000.0, 'foreignRatio': '1.850'}, {'name': '휴온스글로벌', 'code': 'KR7084110006', 'symbolCode': 'A084110', 'tradePrice': 33000.0, 'change': 'RISE', 'changePrice': 700.0, 'changeRate': 0.0216718266, 'accTradeVolume': 18860, 'accTradePrice': 618068450, 'marketCap': 360404946000.0, 'foreignRatio': '11.760'}, {'name': '신일제약', 'code': 'KR7012790002', 'symbolCode': 'A012790', 'tradePrice': 8020.0, 'change': 'RISE', 'changePrice': 170.0, 'changeRate': 0.021656051, 'accTradeVolume': 421163, 'accTradePrice': 3375920160, 'marketCap': 87434040000.0, 'foreignRatio': '1.880'}, {'name': '화일약품', 'code': 'KR7061250007', 'symbolCode': 'A061250', 'tradePrice': 6860.0, 'change': 'RISE', 'changePrice': 140.0, 'changeRate': 0.0208333333, 'accTradeVolume': 310181, 'accTradePrice': 2126096610, 'marketCap': 118631002140.0, 'foreignRatio': '2.280'}, {'name': '대화제약', 'code': 'KR7067080002', 'symbolCode': 'A067080', 'tradePrice': 12250.0, 'change': 'RISE', 'changePrice': 250.0, 'changeRate': 0.0208333333, 'accTradeVolume': 136159, 'accTradePrice': 1668062700, 'marketCap': 223255931500.0, 'foreignRatio': '7.330'}, {'name': '올리패스', 'code': 'KR7244460002', 'symbolCode': 'A244460', 'tradePrice': 20450.0, 'change': 'RISE', 'changePrice': 400.0, 'changeRate': 0.0199501247, 'accTradeVolume': 65651, 'accTradePrice': 1330407100, 'marketCap': 324871665250.0, 'foreignRatio': '3.320'}, {'name': '유바이오로직스', 'code': 'KR7206650004', 'symbolCode': 'A206650', 'tradePrice': 7750.0, 'change': 'RISE', 'changePrice': 150.0, 'changeRate': 0.0197368421, 'accTradeVolume': 176964, 'accTradePrice': 1362771180, 'marketCap': 207641820750.0, 'foreignRatio': '1.340'}, {'name': 'KPX생명과학', 'code': 'KR7114450000', 'symbolCode': 'A114450', 'tradePrice': 7800.0, 'change': 'RISE', 'changePrice': 150.0, 'changeRate': 0.0196078431, 'accTradeVolume': 198697, 'accTradePrice': 1537841880, 'marketCap': 117000000000.0, 'foreignRatio': '0.550'}, {'name': '휴온스', 'code': 'KR7243070000', 'symbolCode': 'A243070', 'tradePrice': 52500.0, 'change': 'RISE', 'changePrice': 1000.0, 'changeRate': 0.0194174757, 'accTradeVolume': 18000, 'accTradePrice': 943005200, 'marketCap': 471647242500.0, 'foreignRatio': '14.330'}, {'name': '퓨쳐켐', 'code': 'KR7220100002', 'symbolCode': 'A220100', 'tradePrice': 16400.0, 'change': 'RISE', 'changePrice': 300.0, 'changeRate': 0.0186335404, 'accTradeVolume': 26274, 'accTradePrice': 428816700, 'marketCap': 94285879600.0, 'foreignRatio': '1.710'}, {'name': '오스코텍', 'code': 'KR7039200001', 'symbolCode': 'A039200', 'tradePrice': 22000.0, 'change': 'RISE', 'changePrice': 400.0, 'changeRate': 0.0185185185, 'accTradeVolume': 103234, 'accTradePrice': 2256974050, 'marketCap': 642406842000.0, 'foreignRatio': '6.200'}, {'name': '한스바이오메드', 'code': 'KR7042520007', 'symbolCode': 'A042520', 'tradePrice': 23900.0, 'change': 'RISE', 'changePrice': 400.0, 'changeRate': 0.0170212766, 'accTradeVolume': 115811, 'accTradePrice': 2773503100, 'marketCap': 236668650600.0, 'foreignRatio': '17.050'}, {'name': '대한뉴팜', 'code': 'KR7054670005', 'symbolCode': 'A054670', 'tradePrice': 12100.0, 'change': 'RISE', 'changePrice': 200.0, 'changeRate': 0.0168067227, 'accTradeVolume': 765499, 'accTradePrice': 9357968800, 'marketCap': 173694532000.0, 'foreignRatio': '0.000'}, {'name': '아이큐어', 'code': 'KR7175250000', 'symbolCode': 'A175250', 'tradePrice': 33600.0, 'change': 'RISE', 'changePrice': 500.0, 'changeRate': 0.0151057402, 'accTradeVolume': 42335, 'accTradePrice': 1414512900, 'marketCap': 216601392000.0, 'foreignRatio': '0.230'}, {'name': '지노믹트리', 'code': 'KR7228760005', 'symbolCode': 'A228760', 'tradePrice': 20850.0, 'change': 'RISE', 'changePrice': 300.0, 'changeRate': 0.0145985401, 'accTradeVolume': 103354, 'accTradePrice': 2144612750, 'marketCap': 416712582750.0, 'foreignRatio': '1.370'}, {'name': '비씨월드제약', 'code': 'KR7200780005', 'symbolCode': 'A200780', 'tradePrice': 14100.0, 'change': 'RISE', 'changePrice': 200.0, 'changeRate': 0.0143884892, 'accTradeVolume': 63903, 'accTradePrice': 912546850, 'marketCap': 112917283800.0, 'foreignRatio': '1.730'}, {'name': '코아스템', 'code': 'KR7166480004', 'symbolCode': 'A166480', 'tradePrice': 9300.0, 'change': 'RISE', 'changePrice': 130.0, 'changeRate': 0.014176663, 'accTradeVolume': 23051, 'accTradePrice': 213667580, 'marketCap': 146172192000.0, 'foreignRatio': '1.400'}, {'name': '메디톡스', 'code': 'KR7086900008', 'symbolCode': 'A086900', 'tradePrice': 346800.0, 'change': 'RISE', 'changePrice': 4600.0, 'changeRate': 0.0134424313, 'accTradeVolume': 33916, 'accTradePrice': 11727430900, 'marketCap': 2016673212000.0, 'foreignRatio': '42.240'}, {'name': '네이처셀', 'code': 'KR7007390008', 'symbolCode': 'A007390', 'tradePrice': 6470.0, 'change': 'RISE', 'changePrice': 80.0, 'changeRate': 0.0125195618, 'accTradeVolume': 1765012, 'accTradePrice': 11445372350, 'marketCap': 395901881530.0, 'foreignRatio': '4.730'}, {'name': '에이비엘바이오', 'code': 'KR7298380007', 'symbolCode': 'A298380', 'tradePrice': 20250.0, 'change': 'RISE', 'changePrice': 250.0, 'changeRate': 0.0125, 'accTradeVolume': 861067, 'accTradePrice': 17535417550, 'marketCap': 917392837500.0, 'foreignRatio': '3.930'}, {'name': '유틸렉스', 'code': 'KR7263050007', 'symbolCode': 'A263050', 'tradePrice': 58800.0, 'change': 'RISE', 'changePrice': 700.0, 'changeRate': 0.0120481928, 'accTradeVolume': 22344, 'accTradePrice': 1310586600, 'marketCap': 434185138800.0, 'foreignRatio': '29.650'}, {'name': '녹십자셀', 'code': 'KR7031390008', 'symbolCode': 'A031390', 'tradePrice': 42200.0, 'change': 'RISE', 'changePrice': 450.0, 'changeRate': 0.0107784431, 'accTradeVolume': 47715, 'accTradePrice': 2014596100, 'marketCap': 511037189200.0, 'foreignRatio': '6.120'}, {'name': '바이넥스', 'code': 'KR7053030003', 'symbolCode': 'A053030', 'tradePrice': 7810.0, 'change': 'RISE', 'changePrice': 80.0, 'changeRate': 0.0103492885, 'accTradeVolume': 186615, 'accTradePrice': 1459486610, 'marketCap': 247897584880.0, 'foreignRatio': '9.160'}], 'totalCount': 89, 'totalPages': 3, 'currentPage': 2, 'pageSize': 30}\n"
     ]
    }
   ],
   "source": [
    "    url2 = 'https://finance.daum.net/api/sectors/E4012066/includedStocks?symbolCode=E4012066&page=2&perPage=30&fieldName=changeRate&order=desc&pagination=true'\n",
    "    headers = {\n",
    "            'Referer' : 'https://finance.daum.net/domestic/sectors/E4012066',\n",
    "            'User-Agent' : 'Mozilla/5.0 (Windows NT 10.0; Win64; x64) AppleWebKit/537.36 (KHTML, like Gecko) Chrome/79.0.3945.88 Safari/537.36'\n",
    "}\n",
    "    response = requests.get(url2, headers = headers)\n",
    "    json0bjsr = response.json()\n",
    "    print(json0bjsr)"
   ]
  },
  {
   "cell_type": "code",
   "execution_count": 170,
   "metadata": {},
   "outputs": [
    {
     "name": "stdout",
     "output_type": "stream",
     "text": [
      "{'market': 'KOSDAQ', 'symbolCode': 'E4012066', 'sectorCode': '066', 'sectorName': '제약', 'foreignRatioBaseDate': '2020-01-21', 'includedStocks': [{'name': '대한약품', 'code': 'KR7023910003', 'symbolCode': 'A023910', 'tradePrice': 31650.0, 'change': 'RISE', 'changePrice': 300.0, 'changeRate': 0.009569378, 'accTradeVolume': 13116, 'accTradePrice': 413050000, 'marketCap': 189900000000.0, 'foreignRatio': '12.070'}, {'name': '코오롱생명과학', 'code': 'KR7102940004', 'symbolCode': 'A102940', 'tradePrice': 18000.0, 'change': 'RISE', 'changePrice': 150.0, 'changeRate': 0.0084033613, 'accTradeVolume': 34599, 'accTradePrice': 624936400, 'marketCap': 205422408000.0, 'foreignRatio': '3.390'}, {'name': '팬젠', 'code': 'KR7222110009', 'symbolCode': 'A222110', 'tradePrice': 7530.0, 'change': 'RISE', 'changePrice': 60.0, 'changeRate': 0.0080321285, 'accTradeVolume': 7464, 'accTradePrice': 55814990, 'marketCap': 72602610930.0, 'foreignRatio': '9.890'}, {'name': '강스템바이오텍', 'code': 'KR7217730001', 'symbolCode': 'A217730', 'tradePrice': 7620.0, 'change': 'RISE', 'changePrice': 60.0, 'changeRate': 0.0079365079, 'accTradeVolume': 173622, 'accTradePrice': 1329510210, 'marketCap': 158872709940.0, 'foreignRatio': '2.040'}, {'name': '한국비엔씨', 'code': 'KR7256840000', 'symbolCode': 'A256840', 'tradePrice': 2040.0, 'change': 'RISE', 'changePrice': 15.0, 'changeRate': 0.0074074074, 'accTradeVolume': 639915, 'accTradePrice': 1315076665, 'marketCap': 94276492680.0, 'foreignRatio': '0.360'}, {'name': '테고사이언스', 'code': 'KR7191420009', 'symbolCode': 'A191420', 'tradePrice': 22250.0, 'change': 'RISE', 'changePrice': 150.0, 'changeRate': 0.0067873303, 'accTradeVolume': 20955, 'accTradePrice': 467934650, 'marketCap': 179905356500.0, 'foreignRatio': '2.560'}, {'name': '파멥신', 'code': 'KR7208340000', 'symbolCode': 'A208340', 'tradePrice': 37100.0, 'change': 'RISE', 'changePrice': 250.0, 'changeRate': 0.0067842605, 'accTradeVolume': 68975, 'accTradePrice': 2542405650, 'marketCap': 256391013900.0, 'foreignRatio': '0.970'}, {'name': '이수앱지스', 'code': 'KR7086890001', 'symbolCode': 'A086890', 'tradePrice': 6630.0, 'change': 'RISE', 'changePrice': 30.0, 'changeRate': 0.0045454545, 'accTradeVolume': 61645, 'accTradePrice': 408218000, 'marketCap': 176525685960.0, 'foreignRatio': '0.960'}, {'name': '고려제약', 'code': 'KR7014570006', 'symbolCode': 'A014570', 'tradePrice': 11600.0, 'change': 'RISE', 'changePrice': 50.0, 'changeRate': 0.0043290043, 'accTradeVolume': 6044502, 'accTradePrice': 71187123250, 'marketCap': 127600000000.0, 'foreignRatio': '0.450'}, {'name': '차바이오텍', 'code': 'KR7085660009', 'symbolCode': 'A085660', 'tradePrice': 14400.0, 'change': 'RISE', 'changePrice': 50.0, 'changeRate': 0.0034843206, 'accTradeVolume': 86952, 'accTradePrice': 1254448350, 'marketCap': 755720121600.0, 'foreignRatio': '5.180'}, {'name': '티앤알바이오팹', 'code': 'KR7246710008', 'symbolCode': 'A246710', 'tradePrice': 9460.0, 'change': 'RISE', 'changePrice': 30.0, 'changeRate': 0.0031813362, 'accTradeVolume': 25077, 'accTradePrice': 237870880, 'marketCap': 78974823400.0, 'foreignRatio': '0.670'}, {'name': '휴메딕스', 'code': 'KR7200670008', 'symbolCode': 'A200670', 'tradePrice': 21700.0, 'change': 'RISE', 'changePrice': 50.0, 'changeRate': 0.0023094688, 'accTradeVolume': 17934, 'accTradePrice': 387949000, 'marketCap': 216374909800.0, 'foreignRatio': '5.210'}, {'name': '앱클론', 'code': 'KR7174900001', 'symbolCode': 'A174900', 'tradePrice': 34450.0, 'change': 'RISE', 'changePrice': 50.0, 'changeRate': 0.0014534884, 'accTradeVolume': 43159, 'accTradePrice': 1493028700, 'marketCap': 247213200000.0, 'foreignRatio': '12.010'}, {'name': '삼천당제약', 'code': 'KR7000250001', 'symbolCode': 'A000250', 'tradePrice': 32000.0, 'change': 'EVEN', 'changePrice': 0.0, 'changeRate': 0, 'accTradeVolume': 67650, 'accTradePrice': 2169048300, 'marketCap': 707386016000.0, 'foreignRatio': '9.930'}, {'name': '셀루메드', 'code': 'KR7049180003', 'symbolCode': 'A049180', 'tradePrice': 5980.0, 'change': 'EVEN', 'changePrice': 0.0, 'changeRate': 0, 'accTradeVolume': 0, 'accTradePrice': 0, 'marketCap': 145526284020.0, 'foreignRatio': '2.640'}, {'name': '경남제약', 'code': 'KR7053950002', 'symbolCode': 'A053950', 'tradePrice': 8870.0, 'change': 'EVEN', 'changePrice': 0.0, 'changeRate': 0, 'accTradeVolume': 213757, 'accTradePrice': 1919782670, 'marketCap': 151264207940.0, 'foreignRatio': '1.620'}, {'name': '바이오솔루션', 'code': 'KR7086820008', 'symbolCode': 'A086820', 'tradePrice': 30700.0, 'change': 'EVEN', 'changePrice': 0.0, 'changeRate': 0, 'accTradeVolume': 147971, 'accTradePrice': 4595183650, 'marketCap': 246692183200.0, 'foreignRatio': '1.330'}, {'name': '케어젠', 'code': 'KR7214370009', 'symbolCode': 'A214370', 'tradePrice': 76500.0, 'change': 'EVEN', 'changePrice': 0.0, 'changeRate': 0, 'accTradeVolume': 0, 'accTradePrice': 0, 'marketCap': 821839500000.0, 'foreignRatio': '9.450'}, {'name': '아스타', 'code': 'KR7246720007', 'symbolCode': 'A246720', 'tradePrice': 5230.0, 'change': 'EVEN', 'changePrice': 0.0, 'changeRate': 0, 'accTradeVolume': 40832, 'accTradePrice': 213240210, 'marketCap': 60053595290.0, 'foreignRatio': '0.430'}, {'name': '알리코제약', 'code': 'KR7260660006', 'symbolCode': 'A260660', 'tradePrice': 13700.0, 'change': 'EVEN', 'changePrice': 0.0, 'changeRate': 0, 'accTradeVolume': 139784, 'accTradePrice': 1914721100, 'marketCap': 133719877500.0, 'foreignRatio': '1.170'}, {'name': '브릿지바이오테라퓨틱스', 'code': 'KR7288330004', 'symbolCode': 'A288330', 'tradePrice': 55800.0, 'change': 'FALL', 'changePrice': 100.0, 'changeRate': -0.0017889088, 'accTradeVolume': 49420, 'accTradePrice': 2758908800, 'marketCap': 347358236400.0, 'foreignRatio': '0.740'}, {'name': '옵티팜', 'code': 'KR7153710009', 'symbolCode': 'A153710', 'tradePrice': 8770.0, 'change': 'FALL', 'changePrice': 20.0, 'changeRate': -0.0022753129, 'accTradeVolume': 37730, 'accTradePrice': 331412290, 'marketCap': 126092937660.0, 'foreignRatio': '1.050'}, {'name': '녹십자웰빙', 'code': 'KR7234690006', 'symbolCode': 'A234690', 'tradePrice': 10300.0, 'change': 'FALL', 'changePrice': 50.0, 'changeRate': -0.0048309179, 'accTradeVolume': 166934, 'accTradePrice': 1729674500, 'marketCap': 182848442800.0, 'foreignRatio': '0.610'}, {'name': '쎌바이오텍', 'code': 'KR7049960008', 'symbolCode': 'A049960', 'tradePrice': 18100.0, 'change': 'FALL', 'changePrice': 100.0, 'changeRate': -0.0054945055, 'accTradeVolume': 18770, 'accTradePrice': 342020100, 'marketCap': 170140000000.0, 'foreignRatio': '14.070'}, {'name': '디에이치피코리아', 'code': 'KR7131030009', 'symbolCode': 'A131030', 'tradePrice': 8140.0, 'change': 'FALL', 'changePrice': 50.0, 'changeRate': -0.0061050061, 'accTradeVolume': 351111, 'accTradePrice': 2884202640, 'marketCap': 134837447580.0, 'foreignRatio': '4.600'}, {'name': '제테마', 'code': 'KR7216080002', 'symbolCode': 'A216080', 'tradePrice': 26450.0, 'change': 'FALL', 'changePrice': 250.0, 'changeRate': -0.0093632959, 'accTradeVolume': 80782, 'accTradePrice': 2170818150, 'marketCap': 214745830750.0, 'foreignRatio': '0.470'}, {'name': '피씨엘', 'code': 'KR7241820000', 'symbolCode': 'A241820', 'tradePrice': 8280.0, 'change': 'FALL', 'changePrice': 240.0, 'changeRate': -0.0281690141, 'accTradeVolume': 71382, 'accTradePrice': 594330350, 'marketCap': 78895955160.0, 'foreignRatio': '0.740'}, {'name': '제일바이오', 'code': 'KR7052670007', 'symbolCode': 'A052670', 'tradePrice': 9320.0, 'change': 'FALL', 'changePrice': 530.0, 'changeRate': -0.0538071066, 'accTradeVolume': 8577287, 'accTradePrice': 82775071500, 'marketCap': 139800000000.0, 'foreignRatio': '0.390'}, {'name': '애니젠', 'code': 'KR7196300008', 'symbolCode': 'A196300', 'tradePrice': 11350.0, 'change': 'FALL', 'changePrice': 650.0, 'changeRate': -0.0541666667, 'accTradeVolume': 152810, 'accTradePrice': 1787326900, 'marketCap': 56933472750.0, 'foreignRatio': '1.570'}], 'totalCount': 89, 'totalPages': 3, 'currentPage': 3, 'pageSize': 29}\n"
     ]
    }
   ],
   "source": [
    "    url3 = 'https://finance.daum.net/api/sectors/E4012066/includedStocks?symbolCode=E4012066&page=3&perPage=30&fieldName=changeRate&order=desc&pagination=true'\n",
    "    headers = {\n",
    "            'Referer' : 'https://finance.daum.net/domestic/sectors/E4012066',\n",
    "            'User-Agent' : 'Mozilla/5.0 (Windows NT 10.0; Win64; x64) AppleWebKit/537.36 (KHTML, like Gecko) Chrome/79.0.3945.88 Safari/537.36'\n",
    "}\n",
    "    response = requests.get(url3, headers = headers)\n",
    "    json0bjse = response.json()\n",
    "    print(json0bjse)"
   ]
  },
  {
   "cell_type": "code",
   "execution_count": 171,
   "metadata": {},
   "outputs": [
    {
     "name": "stdout",
     "output_type": "stream",
     "text": [
      "우진비앤지\n",
      "에스티팜\n",
      "엘앤씨바이오\n",
      "삼아제약\n",
      "휴젤\n",
      "콜마비앤에이치\n",
      "메타바이오메드\n",
      "바이오니아\n",
      "녹십자엠에스\n",
      "동국제약\n",
      "씨젠\n",
      "진양제약\n",
      "엔케이맥스\n",
      "신신제약\n",
      "코미팜\n",
      "제노포커스\n",
      "서울제약\n",
      "대봉엘에스\n",
      "동구바이오제약\n",
      "경동제약\n",
      "한국유니온제약\n",
      "안국약품\n",
      "중앙백신\n",
      "대성미생물\n",
      "나이벡\n",
      "셀트리온제약\n",
      "세운메디칼\n",
      "에스텍파마\n",
      "프로스테믹스\n",
      "메디포스트\n",
      "바디텍메드\n",
      "엔지켐생명과학\n",
      "JW신약\n",
      "조아제약\n",
      "CMG제약\n",
      "테라젠이텍스\n",
      "인트론바이오\n",
      "펩트론\n",
      "휴온스글로벌\n",
      "신일제약\n",
      "화일약품\n",
      "대화제약\n",
      "올리패스\n",
      "유바이오로직스\n",
      "KPX생명과학\n",
      "휴온스\n",
      "퓨쳐켐\n",
      "오스코텍\n",
      "한스바이오메드\n",
      "대한뉴팜\n",
      "아이큐어\n",
      "지노믹트리\n",
      "비씨월드제약\n",
      "코아스템\n",
      "메디톡스\n",
      "네이처셀\n",
      "에이비엘바이오\n",
      "유틸렉스\n",
      "녹십자셀\n",
      "바이넥스\n",
      "대한약품\n",
      "코오롱생명과학\n",
      "팬젠\n",
      "강스템바이오텍\n",
      "한국비엔씨\n",
      "테고사이언스\n",
      "파멥신\n",
      "이수앱지스\n",
      "고려제약\n",
      "차바이오텍\n",
      "티앤알바이오팹\n",
      "휴메딕스\n",
      "앱클론\n",
      "삼천당제약\n",
      "셀루메드\n",
      "경남제약\n",
      "바이오솔루션\n",
      "케어젠\n",
      "아스타\n",
      "알리코제약\n",
      "브릿지바이오테라퓨틱스\n",
      "옵티팜\n",
      "녹십자웰빙\n",
      "쎌바이오텍\n",
      "디에이치피코리아\n",
      "제테마\n",
      "피씨엘\n",
      "제일바이오\n",
      "애니젠\n"
     ]
    }
   ],
   "source": [
    "dataList = json0bjst['includedStocks']+json0bjsr['includedStocks']+json0bjse['includedStocks']\n",
    "\n",
    "for includedStocks in dataList :\n",
    "    print(includedStocks['name'])"
   ]
  },
  {
   "cell_type": "code",
   "execution_count": 172,
   "metadata": {},
   "outputs": [],
   "source": [
    "df = pandas.DataFrame(dataList)"
   ]
  },
  {
   "cell_type": "code",
   "execution_count": 173,
   "metadata": {},
   "outputs": [],
   "source": [
    "df[\"CR\"] = df[\"changeRate\"] * 100"
   ]
  },
  {
   "cell_type": "code",
   "execution_count": 174,
   "metadata": {},
   "outputs": [],
   "source": [
    "df = df.replace({'change': 'RISE'}, {'change': '상승'})"
   ]
  },
  {
   "cell_type": "code",
   "execution_count": 175,
   "metadata": {},
   "outputs": [],
   "source": [
    "df = df.replace({'change': 'EVEN'}, {'change': '보합'})"
   ]
  },
  {
   "cell_type": "code",
   "execution_count": 176,
   "metadata": {},
   "outputs": [],
   "source": [
    "df = df.replace({'change': 'FALL'}, {'change': '하락'})"
   ]
  },
  {
   "cell_type": "code",
   "execution_count": 177,
   "metadata": {},
   "outputs": [
    {
     "data": {
      "text/html": [
       "<div>\n",
       "<style scoped>\n",
       "    .dataframe tbody tr th:only-of-type {\n",
       "        vertical-align: middle;\n",
       "    }\n",
       "\n",
       "    .dataframe tbody tr th {\n",
       "        vertical-align: top;\n",
       "    }\n",
       "\n",
       "    .dataframe thead th {\n",
       "        text-align: right;\n",
       "    }\n",
       "</style>\n",
       "<table border=\"1\" class=\"dataframe\">\n",
       "  <thead>\n",
       "    <tr style=\"text-align: right;\">\n",
       "      <th></th>\n",
       "      <th>name</th>\n",
       "      <th>code</th>\n",
       "      <th>symbolCode</th>\n",
       "      <th>tradePrice</th>\n",
       "      <th>change</th>\n",
       "      <th>changePrice</th>\n",
       "      <th>changeRate</th>\n",
       "      <th>accTradeVolume</th>\n",
       "      <th>accTradePrice</th>\n",
       "      <th>marketCap</th>\n",
       "      <th>foreignRatio</th>\n",
       "      <th>CR</th>\n",
       "    </tr>\n",
       "  </thead>\n",
       "  <tbody>\n",
       "    <tr>\n",
       "      <td>0</td>\n",
       "      <td>우진비앤지</td>\n",
       "      <td>KR7018620005</td>\n",
       "      <td>A018620</td>\n",
       "      <td>3145.0</td>\n",
       "      <td>상승</td>\n",
       "      <td>450.0</td>\n",
       "      <td>0.166976</td>\n",
       "      <td>29066956</td>\n",
       "      <td>91789401035</td>\n",
       "      <td>8.166626e+10</td>\n",
       "      <td>2.870</td>\n",
       "      <td>16.697588</td>\n",
       "    </tr>\n",
       "    <tr>\n",
       "      <td>1</td>\n",
       "      <td>에스티팜</td>\n",
       "      <td>KR7237690003</td>\n",
       "      <td>A237690</td>\n",
       "      <td>29650.0</td>\n",
       "      <td>상승</td>\n",
       "      <td>3000.0</td>\n",
       "      <td>0.112570</td>\n",
       "      <td>163486</td>\n",
       "      <td>4673312250</td>\n",
       "      <td>5.531504e+11</td>\n",
       "      <td>9.400</td>\n",
       "      <td>11.257036</td>\n",
       "    </tr>\n",
       "    <tr>\n",
       "      <td>2</td>\n",
       "      <td>엘앤씨바이오</td>\n",
       "      <td>KR7290650001</td>\n",
       "      <td>A290650</td>\n",
       "      <td>33600.0</td>\n",
       "      <td>상승</td>\n",
       "      <td>3200.0</td>\n",
       "      <td>0.105263</td>\n",
       "      <td>460236</td>\n",
       "      <td>15057324300</td>\n",
       "      <td>2.472736e+11</td>\n",
       "      <td>2.920</td>\n",
       "      <td>10.526316</td>\n",
       "    </tr>\n",
       "    <tr>\n",
       "      <td>3</td>\n",
       "      <td>삼아제약</td>\n",
       "      <td>KR7009300005</td>\n",
       "      <td>A009300</td>\n",
       "      <td>17400.0</td>\n",
       "      <td>상승</td>\n",
       "      <td>1550.0</td>\n",
       "      <td>0.097792</td>\n",
       "      <td>748632</td>\n",
       "      <td>13543780350</td>\n",
       "      <td>1.108380e+11</td>\n",
       "      <td>1.120</td>\n",
       "      <td>9.779180</td>\n",
       "    </tr>\n",
       "    <tr>\n",
       "      <td>4</td>\n",
       "      <td>휴젤</td>\n",
       "      <td>KR7145020004</td>\n",
       "      <td>A145020</td>\n",
       "      <td>455000.0</td>\n",
       "      <td>상승</td>\n",
       "      <td>40000.0</td>\n",
       "      <td>0.096386</td>\n",
       "      <td>22770</td>\n",
       "      <td>10094102600</td>\n",
       "      <td>1.965493e+12</td>\n",
       "      <td>56.510</td>\n",
       "      <td>9.638554</td>\n",
       "    </tr>\n",
       "    <tr>\n",
       "      <td>...</td>\n",
       "      <td>...</td>\n",
       "      <td>...</td>\n",
       "      <td>...</td>\n",
       "      <td>...</td>\n",
       "      <td>...</td>\n",
       "      <td>...</td>\n",
       "      <td>...</td>\n",
       "      <td>...</td>\n",
       "      <td>...</td>\n",
       "      <td>...</td>\n",
       "      <td>...</td>\n",
       "      <td>...</td>\n",
       "    </tr>\n",
       "    <tr>\n",
       "      <td>84</td>\n",
       "      <td>디에이치피코리아</td>\n",
       "      <td>KR7131030009</td>\n",
       "      <td>A131030</td>\n",
       "      <td>8140.0</td>\n",
       "      <td>하락</td>\n",
       "      <td>50.0</td>\n",
       "      <td>-0.006105</td>\n",
       "      <td>351111</td>\n",
       "      <td>2884202640</td>\n",
       "      <td>1.348374e+11</td>\n",
       "      <td>4.600</td>\n",
       "      <td>-0.610501</td>\n",
       "    </tr>\n",
       "    <tr>\n",
       "      <td>85</td>\n",
       "      <td>제테마</td>\n",
       "      <td>KR7216080002</td>\n",
       "      <td>A216080</td>\n",
       "      <td>26450.0</td>\n",
       "      <td>하락</td>\n",
       "      <td>250.0</td>\n",
       "      <td>-0.009363</td>\n",
       "      <td>80782</td>\n",
       "      <td>2170818150</td>\n",
       "      <td>2.147458e+11</td>\n",
       "      <td>0.470</td>\n",
       "      <td>-0.936330</td>\n",
       "    </tr>\n",
       "    <tr>\n",
       "      <td>86</td>\n",
       "      <td>피씨엘</td>\n",
       "      <td>KR7241820000</td>\n",
       "      <td>A241820</td>\n",
       "      <td>8280.0</td>\n",
       "      <td>하락</td>\n",
       "      <td>240.0</td>\n",
       "      <td>-0.028169</td>\n",
       "      <td>71382</td>\n",
       "      <td>594330350</td>\n",
       "      <td>7.889596e+10</td>\n",
       "      <td>0.740</td>\n",
       "      <td>-2.816901</td>\n",
       "    </tr>\n",
       "    <tr>\n",
       "      <td>87</td>\n",
       "      <td>제일바이오</td>\n",
       "      <td>KR7052670007</td>\n",
       "      <td>A052670</td>\n",
       "      <td>9320.0</td>\n",
       "      <td>하락</td>\n",
       "      <td>530.0</td>\n",
       "      <td>-0.053807</td>\n",
       "      <td>8577287</td>\n",
       "      <td>82775071500</td>\n",
       "      <td>1.398000e+11</td>\n",
       "      <td>0.390</td>\n",
       "      <td>-5.380711</td>\n",
       "    </tr>\n",
       "    <tr>\n",
       "      <td>88</td>\n",
       "      <td>애니젠</td>\n",
       "      <td>KR7196300008</td>\n",
       "      <td>A196300</td>\n",
       "      <td>11350.0</td>\n",
       "      <td>하락</td>\n",
       "      <td>650.0</td>\n",
       "      <td>-0.054167</td>\n",
       "      <td>152810</td>\n",
       "      <td>1787326900</td>\n",
       "      <td>5.693347e+10</td>\n",
       "      <td>1.570</td>\n",
       "      <td>-5.416667</td>\n",
       "    </tr>\n",
       "  </tbody>\n",
       "</table>\n",
       "<p>89 rows × 12 columns</p>\n",
       "</div>"
      ],
      "text/plain": [
       "        name          code symbolCode  tradePrice change  changePrice  \\\n",
       "0      우진비앤지  KR7018620005    A018620      3145.0     상승        450.0   \n",
       "1       에스티팜  KR7237690003    A237690     29650.0     상승       3000.0   \n",
       "2     엘앤씨바이오  KR7290650001    A290650     33600.0     상승       3200.0   \n",
       "3       삼아제약  KR7009300005    A009300     17400.0     상승       1550.0   \n",
       "4         휴젤  KR7145020004    A145020    455000.0     상승      40000.0   \n",
       "..       ...           ...        ...         ...    ...          ...   \n",
       "84  디에이치피코리아  KR7131030009    A131030      8140.0     하락         50.0   \n",
       "85       제테마  KR7216080002    A216080     26450.0     하락        250.0   \n",
       "86       피씨엘  KR7241820000    A241820      8280.0     하락        240.0   \n",
       "87     제일바이오  KR7052670007    A052670      9320.0     하락        530.0   \n",
       "88       애니젠  KR7196300008    A196300     11350.0     하락        650.0   \n",
       "\n",
       "    changeRate  accTradeVolume  accTradePrice     marketCap foreignRatio  \\\n",
       "0     0.166976        29066956    91789401035  8.166626e+10        2.870   \n",
       "1     0.112570          163486     4673312250  5.531504e+11        9.400   \n",
       "2     0.105263          460236    15057324300  2.472736e+11        2.920   \n",
       "3     0.097792          748632    13543780350  1.108380e+11        1.120   \n",
       "4     0.096386           22770    10094102600  1.965493e+12       56.510   \n",
       "..         ...             ...            ...           ...          ...   \n",
       "84   -0.006105          351111     2884202640  1.348374e+11        4.600   \n",
       "85   -0.009363           80782     2170818150  2.147458e+11        0.470   \n",
       "86   -0.028169           71382      594330350  7.889596e+10        0.740   \n",
       "87   -0.053807         8577287    82775071500  1.398000e+11        0.390   \n",
       "88   -0.054167          152810     1787326900  5.693347e+10        1.570   \n",
       "\n",
       "           CR  \n",
       "0   16.697588  \n",
       "1   11.257036  \n",
       "2   10.526316  \n",
       "3    9.779180  \n",
       "4    9.638554  \n",
       "..        ...  \n",
       "84  -0.610501  \n",
       "85  -0.936330  \n",
       "86  -2.816901  \n",
       "87  -5.380711  \n",
       "88  -5.416667  \n",
       "\n",
       "[89 rows x 12 columns]"
      ]
     },
     "execution_count": 177,
     "metadata": {},
     "output_type": "execute_result"
    }
   ],
   "source": [
    "df\n",
    "#CR = changeRate * 100 "
   ]
  },
  {
   "cell_type": "code",
   "execution_count": 178,
   "metadata": {},
   "outputs": [
    {
     "name": "stdout",
     "output_type": "stream",
     "text": [
      "22 일 우진비앤지 (은)는 16.69758813 % 오른\n"
     ]
    }
   ],
   "source": [
    "\n",
    "print(Date('현재').일,'일', df[\"name\"].iloc[0],\"(은)는\", df[\"CR\"].iloc[0],\"% 오른\")"
   ]
  },
  {
   "cell_type": "code",
   "execution_count": 179,
   "metadata": {},
   "outputs": [
    {
     "name": "stdout",
     "output_type": "stream",
     "text": [
      "generated content : \n"
     ]
    },
    {
     "data": {
      "text/html": [
       "<p>조사처리는 이와 같은 방식으로 합니다.</p>"
      ],
      "text/plain": [
       "<IPython.core.display.HTML object>"
      ]
     },
     "metadata": {},
     "output_type": "display_data"
    }
   ],
   "source": [
    "Write(\"조사처리(은)는 이와 같은 방식(으)로 합니다.\")"
   ]
  },
  {
   "cell_type": "code",
   "execution_count": 180,
   "metadata": {},
   "outputs": [
    {
     "name": "stdout",
     "output_type": "stream",
     "text": [
      "generated content : \n"
     ]
    },
    {
     "data": {
      "text/html": [
       "<p>제약업종에서는 우진비앤지가 전 거래일 대비 16.69758813% 상승한 3145.0원으로 가장 높은 상승률을 기록했고, 에스티팜이 11.257035649999999% 상승한 29650.0원, 엘앤씨바이오가 10.52631579% 상승한 33600.0원, 삼아제약이 9.779179809999999% 상승한 17400.0원으로 뒤를 이었다. </br> </br>하위 5개 종목으로는 애니젠이 -5.41666667% 하락한 11350.0원, 제일바이오가 -5.38071066% 하락한 9320.0원, 피씨엘이 -2.81690141% 하락한 8280.0원, 제테마가 -0.93632959% 하락한 26450.0원, 디에이치피코리아가 -0.61050061% 하락한 8140.0원이었다.</p>"
      ],
      "text/plain": [
       "<IPython.core.display.HTML object>"
      ]
     },
     "metadata": {},
     "output_type": "display_data"
    }
   ],
   "source": [
    "Write('제약업종에서는 ', df[\"name\"].iloc[0],\"(이)가 전 거래일 대비 \", df[\"CR\"].iloc[0],\"% \",df['change'].iloc[0],'한 ',df['tradePrice'].iloc[0],\"원으로 가장 높은 상승률을 기록했고, \",df['name'].iloc[1],'(이)가 ', df['CR'].iloc[1],\"% \",df['change'].iloc[1],'한 ',df['tradePrice'].iloc[1], '원, ',df['name'].iloc[2],'(이)가 ', df['CR'].iloc[2],\"% \",df['change'].iloc[2],'한 ',df['tradePrice'].iloc[2], '원, ' ,df['name'].iloc[3],'(이)가 ', df['CR'].iloc[3],\"% \",df['change'].iloc[3],'한 ',df['tradePrice'].iloc[3], '원으로 뒤를 이었다. </br> </br>하위 5개 종목으로는 ',df['name'].iloc[-1],'(이)가 ', df['CR'].iloc[-1],\"% \",df['change'].iloc[-1],'한 ',df['tradePrice'].iloc[-1], '원, ',df['name'].iloc[-2],'(이)가 ', df['CR'].iloc[-2],\"% \",df['change'].iloc[-2],'한 ',df['tradePrice'].iloc[-2], '원, ' ,df['name'].iloc[-3],'(이)가 ', df['CR'].iloc[-3],\"% \",df['change'].iloc[-3],'한 ',df['tradePrice'].iloc[-3], '원, ',df['name'].iloc[-4],'(이)가 ', df['CR'].iloc[-4],\"% \",df['change'].iloc[-4],'한 ',df['tradePrice'].iloc[-4], '원, ',df['name'].iloc[-5],'(이)가 ', df['CR'].iloc[-5],\"% \",df['change'].iloc[-5],'한 ',df['tradePrice'].iloc[-5], '원이었다.' )"
   ]
  },
  {
   "cell_type": "code",
   "execution_count": 181,
   "metadata": {},
   "outputs": [],
   "source": [
    "#테이블 명에서 이름을 뽑으려면 붉은색(=테이블명 넣는 곳) 'name' 을 입력하고 앞에서 첫번째를 뽑으려면 위에 df에서 본대로 0을 넣으면 1번째 주가명이 나옴. \n",
    "#df['name'].iloc[0] 이라고 쓰면 된다는 점. \n",
    "#만약 첫번째 종목명이 아닌 상승하락여부를 뽑으려면 df['name']에서 'name'이 아닌 'change'를 넣어서 df['change']라고 하면 된다 ^_^\n",
    "\n",
    "\n",
    "\n",
    "#df[\"name\"].iloc[-1]"
   ]
  },
  {
   "cell_type": "code",
   "execution_count": 182,
   "metadata": {},
   "outputs": [],
   "source": [
    "#불필요한 컬럼을 제거한 후 mdf dataframe에 저장\n",
    "mdf = df.drop(['symbolCode','marketCap','change','changeRate','accTradeVolume','accTradePrice','foreignRatio','code','changePrice'], axis = 1)"
   ]
  },
  {
   "cell_type": "code",
   "execution_count": 183,
   "metadata": {},
   "outputs": [],
   "source": [
    "#변수명 변경\n",
    "mdf.rename(columns={'name': '종목명', 'tradePrice': '종가','CR':'등락률'}, inplace=True)"
   ]
  },
  {
   "cell_type": "code",
   "execution_count": 184,
   "metadata": {},
   "outputs": [
    {
     "data": {
      "text/html": [
       "<div>\n",
       "<style scoped>\n",
       "    .dataframe tbody tr th:only-of-type {\n",
       "        vertical-align: middle;\n",
       "    }\n",
       "\n",
       "    .dataframe tbody tr th {\n",
       "        vertical-align: top;\n",
       "    }\n",
       "\n",
       "    .dataframe thead th {\n",
       "        text-align: right;\n",
       "    }\n",
       "</style>\n",
       "<table border=\"1\" class=\"dataframe\">\n",
       "  <thead>\n",
       "    <tr style=\"text-align: right;\">\n",
       "      <th></th>\n",
       "      <th>종목명</th>\n",
       "      <th>종가</th>\n",
       "      <th>등락률</th>\n",
       "    </tr>\n",
       "  </thead>\n",
       "  <tbody>\n",
       "    <tr>\n",
       "      <td>0</td>\n",
       "      <td>우진비앤지</td>\n",
       "      <td>3145.0</td>\n",
       "      <td>16.697588</td>\n",
       "    </tr>\n",
       "    <tr>\n",
       "      <td>1</td>\n",
       "      <td>에스티팜</td>\n",
       "      <td>29650.0</td>\n",
       "      <td>11.257036</td>\n",
       "    </tr>\n",
       "    <tr>\n",
       "      <td>2</td>\n",
       "      <td>엘앤씨바이오</td>\n",
       "      <td>33600.0</td>\n",
       "      <td>10.526316</td>\n",
       "    </tr>\n",
       "    <tr>\n",
       "      <td>3</td>\n",
       "      <td>삼아제약</td>\n",
       "      <td>17400.0</td>\n",
       "      <td>9.779180</td>\n",
       "    </tr>\n",
       "    <tr>\n",
       "      <td>4</td>\n",
       "      <td>휴젤</td>\n",
       "      <td>455000.0</td>\n",
       "      <td>9.638554</td>\n",
       "    </tr>\n",
       "    <tr>\n",
       "      <td>...</td>\n",
       "      <td>...</td>\n",
       "      <td>...</td>\n",
       "      <td>...</td>\n",
       "    </tr>\n",
       "    <tr>\n",
       "      <td>84</td>\n",
       "      <td>디에이치피코리아</td>\n",
       "      <td>8140.0</td>\n",
       "      <td>-0.610501</td>\n",
       "    </tr>\n",
       "    <tr>\n",
       "      <td>85</td>\n",
       "      <td>제테마</td>\n",
       "      <td>26450.0</td>\n",
       "      <td>-0.936330</td>\n",
       "    </tr>\n",
       "    <tr>\n",
       "      <td>86</td>\n",
       "      <td>피씨엘</td>\n",
       "      <td>8280.0</td>\n",
       "      <td>-2.816901</td>\n",
       "    </tr>\n",
       "    <tr>\n",
       "      <td>87</td>\n",
       "      <td>제일바이오</td>\n",
       "      <td>9320.0</td>\n",
       "      <td>-5.380711</td>\n",
       "    </tr>\n",
       "    <tr>\n",
       "      <td>88</td>\n",
       "      <td>애니젠</td>\n",
       "      <td>11350.0</td>\n",
       "      <td>-5.416667</td>\n",
       "    </tr>\n",
       "  </tbody>\n",
       "</table>\n",
       "<p>89 rows × 3 columns</p>\n",
       "</div>"
      ],
      "text/plain": [
       "         종목명        종가        등락률\n",
       "0      우진비앤지    3145.0  16.697588\n",
       "1       에스티팜   29650.0  11.257036\n",
       "2     엘앤씨바이오   33600.0  10.526316\n",
       "3       삼아제약   17400.0   9.779180\n",
       "4         휴젤  455000.0   9.638554\n",
       "..       ...       ...        ...\n",
       "84  디에이치피코리아    8140.0  -0.610501\n",
       "85       제테마   26450.0  -0.936330\n",
       "86       피씨엘    8280.0  -2.816901\n",
       "87     제일바이오    9320.0  -5.380711\n",
       "88       애니젠   11350.0  -5.416667\n",
       "\n",
       "[89 rows x 3 columns]"
      ]
     },
     "execution_count": 184,
     "metadata": {},
     "output_type": "execute_result"
    }
   ],
   "source": [
    "mdf"
   ]
  },
  {
   "cell_type": "code",
   "execution_count": 97,
   "metadata": {},
   "outputs": [],
   "source": [
    "#KSD_stock이라는 이름으로 엑셀 파일 생성된다.\n",
    "mdf.to_excel('KSD_stock.xlsx')"
   ]
  },
  {
   "cell_type": "code",
   "execution_count": null,
   "metadata": {},
   "outputs": [],
   "source": []
  }
 ],
 "metadata": {
  "kernelspec": {
   "display_name": "Python 3",
   "language": "python",
   "name": "python3"
  },
  "language_info": {
   "codemirror_mode": {
    "name": "ipython",
    "version": 3
   },
   "file_extension": ".py",
   "mimetype": "text/x-python",
   "name": "python",
   "nbconvert_exporter": "python",
   "pygments_lexer": "ipython3",
   "version": "3.7.4"
  }
 },
 "nbformat": 4,
 "nbformat_minor": 4
}
